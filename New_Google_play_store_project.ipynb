{
  "nbformat": 4,
  "nbformat_minor": 0,
  "metadata": {
    "colab": {
      "name": " New Google play store project.ipynb",
      "provenance": [],
      "authorship_tag": "ABX9TyNgemD5UbOnTNgZpdyWPUSJ",
      "include_colab_link": true
    },
    "kernelspec": {
      "name": "python3",
      "display_name": "Python 3"
    },
    "language_info": {
      "name": "python"
    }
  },
  "cells": [
    {
      "cell_type": "markdown",
      "metadata": {
        "id": "view-in-github",
        "colab_type": "text"
      },
      "source": [
        "<a href=\"https://colab.research.google.com/github/rohitme9798/Google-play-store-app-review-analysis/blob/main/New_Google_play_store_project.ipynb\" target=\"_parent\"><img src=\"https://colab.research.google.com/assets/colab-badge.svg\" alt=\"Open In Colab\"/></a>"
      ]
    },
    {
      "cell_type": "markdown",
      "metadata": {
        "id": "40zH5yujhXJ1"
      },
      "source": [
        "###The Play Store apps data has enormous potential to drive app-making businesses to success. Actionable insights can be drawn for developers to work on and capture the Android market.\n",
        "\n",
        "###Each app (row) has values for catergory, rating, size, and more. Another dataset contains customer reviews of the android apps.\n",
        "\n",
        "###Explore and analyze the data to discover key factors responsible for app engagement and success"
      ]
    },
    {
      "cell_type": "markdown",
      "metadata": {
        "id": "clEJ4w1Fhdbu"
      },
      "source": [
        "###Before deep-diving straight into the problem solution, we need to create a roadmap which we will be referring to throughout this exploratory data analysis.\n",
        "###Google Play Store is a digital store managed and developed by Google, which provides services like installing applications for android and Chrome-based OS users.\n",
        "###After installing applications some users give reviews and rating for the app they have used, this ratings and reviews defines the satisfaction of the customers, that's directly proportional to the performance of the app. So it is essential to analyze these ratings and reviews to improve the quality of service which will cater to the need of end-users.\n",
        "###The objective of this project is to deliver insights to understand customer demands better and thus help developers to popularize the product. It is of 10k Play Store apps for analyzing the Android market. This dataset contains details of different applications and reviews from different users.\n",
        "###Discussion of Google play store dataset will involve various steps such as\n",
        "###1. loading the data into the data frame\n",
        "###2. cleaning the data\n",
        "###3. extracting statistics from the dataset\n",
        "###4. exploratory analysis and visualizations\n",
        "###5. questions that can be asked from the dataset\n",
        "###6. conclusion"
      ]
    },
    {
      "cell_type": "code",
      "metadata": {
        "id": "za-jRvLjhyb2"
      },
      "source": [
        "# importing the data file\n",
        "import numpy as np\n",
        "import pandas as pd\n",
        "import matplotlib.pyplot as plt\n",
        "import seaborn as sns\n",
        "%matplotlib inline\n",
        "import warnings\n",
        "warnings.filterwarnings(\"ignore\")\n",
        "sns.set(rc={'figure.figsize':(16,7)})\n"
      ],
      "execution_count": 1,
      "outputs": []
    },
    {
      "cell_type": "code",
      "metadata": {
        "colab": {
          "base_uri": "https://localhost:8080/"
        },
        "id": "2dDo8JMsiFZB",
        "outputId": "8bc04f50-92a0-4cf2-9746-38c569c354ca"
      },
      "source": [
        "#Mount drive with google colab notebook\n",
        "from google.colab import drive\n",
        "drive.mount('/content/drive')"
      ],
      "execution_count": 2,
      "outputs": [
        {
          "output_type": "stream",
          "text": [
            "Mounted at /content/drive\n"
          ],
          "name": "stdout"
        }
      ]
    },
    {
      "cell_type": "markdown",
      "metadata": {
        "id": "jDhjpRQhiS_l"
      },
      "source": [
        "###Step 1. Loading the Database"
      ]
    },
    {
      "cell_type": "code",
      "metadata": {
        "id": "3DzOwZ5hiV1D"
      },
      "source": [
        "# Create the directional path for data \n",
        "dir_path=\"/content/drive/MyDrive/Almabetter/Play Store Data.csv\""
      ],
      "execution_count": 69,
      "outputs": []
    },
    {
      "cell_type": "code",
      "metadata": {
        "id": "RYvB3PJlie4K"
      },
      "source": [
        "# Read data\n",
        "gps_df=pd.read_csv(dir_path)"
      ],
      "execution_count": 70,
      "outputs": []
    },
    {
      "cell_type": "code",
      "metadata": {
        "id": "s57Ib0cZiewf"
      },
      "source": [
        "#  Writing a small for loop to convert uppercase to lowercase and replacing the spaces with underscore\n",
        "gps_df.columns=[str(x).lower().replace(\" \",\"_\") for x in df.columns]"
      ],
      "execution_count": 71,
      "outputs": []
    },
    {
      "cell_type": "code",
      "metadata": {
        "colab": {
          "base_uri": "https://localhost:8080/",
          "height": 554
        },
        "id": "jvwe73Dhiw9L",
        "outputId": "68c8a9b6-e5a0-4c55-bef8-fa7930e3c343"
      },
      "source": [
        "gps_df.head()"
      ],
      "execution_count": 72,
      "outputs": [
        {
          "output_type": "execute_result",
          "data": {
            "text/html": [
              "<div>\n",
              "<style scoped>\n",
              "    .dataframe tbody tr th:only-of-type {\n",
              "        vertical-align: middle;\n",
              "    }\n",
              "\n",
              "    .dataframe tbody tr th {\n",
              "        vertical-align: top;\n",
              "    }\n",
              "\n",
              "    .dataframe thead th {\n",
              "        text-align: right;\n",
              "    }\n",
              "</style>\n",
              "<table border=\"1\" class=\"dataframe\">\n",
              "  <thead>\n",
              "    <tr style=\"text-align: right;\">\n",
              "      <th></th>\n",
              "      <th>app</th>\n",
              "      <th>category</th>\n",
              "      <th>rating</th>\n",
              "      <th>reviews</th>\n",
              "      <th>size</th>\n",
              "      <th>installs</th>\n",
              "      <th>type</th>\n",
              "      <th>price</th>\n",
              "      <th>content_rating</th>\n",
              "      <th>genres</th>\n",
              "      <th>last_updated</th>\n",
              "      <th>current_ver</th>\n",
              "      <th>android_ver</th>\n",
              "    </tr>\n",
              "  </thead>\n",
              "  <tbody>\n",
              "    <tr>\n",
              "      <th>0</th>\n",
              "      <td>Photo Editor &amp; Candy Camera &amp; Grid &amp; ScrapBook</td>\n",
              "      <td>ART_AND_DESIGN</td>\n",
              "      <td>4.1</td>\n",
              "      <td>159</td>\n",
              "      <td>19M</td>\n",
              "      <td>10,000+</td>\n",
              "      <td>Free</td>\n",
              "      <td>0</td>\n",
              "      <td>Everyone</td>\n",
              "      <td>Art &amp; Design</td>\n",
              "      <td>January 7, 2018</td>\n",
              "      <td>1.0.0</td>\n",
              "      <td>4.0.3 and up</td>\n",
              "    </tr>\n",
              "    <tr>\n",
              "      <th>1</th>\n",
              "      <td>Coloring book moana</td>\n",
              "      <td>ART_AND_DESIGN</td>\n",
              "      <td>3.9</td>\n",
              "      <td>967</td>\n",
              "      <td>14M</td>\n",
              "      <td>500,000+</td>\n",
              "      <td>Free</td>\n",
              "      <td>0</td>\n",
              "      <td>Everyone</td>\n",
              "      <td>Art &amp; Design;Pretend Play</td>\n",
              "      <td>January 15, 2018</td>\n",
              "      <td>2.0.0</td>\n",
              "      <td>4.0.3 and up</td>\n",
              "    </tr>\n",
              "    <tr>\n",
              "      <th>2</th>\n",
              "      <td>U Launcher Lite – FREE Live Cool Themes, Hide ...</td>\n",
              "      <td>ART_AND_DESIGN</td>\n",
              "      <td>4.7</td>\n",
              "      <td>87510</td>\n",
              "      <td>8.7M</td>\n",
              "      <td>5,000,000+</td>\n",
              "      <td>Free</td>\n",
              "      <td>0</td>\n",
              "      <td>Everyone</td>\n",
              "      <td>Art &amp; Design</td>\n",
              "      <td>August 1, 2018</td>\n",
              "      <td>1.2.4</td>\n",
              "      <td>4.0.3 and up</td>\n",
              "    </tr>\n",
              "    <tr>\n",
              "      <th>3</th>\n",
              "      <td>Sketch - Draw &amp; Paint</td>\n",
              "      <td>ART_AND_DESIGN</td>\n",
              "      <td>4.5</td>\n",
              "      <td>215644</td>\n",
              "      <td>25M</td>\n",
              "      <td>50,000,000+</td>\n",
              "      <td>Free</td>\n",
              "      <td>0</td>\n",
              "      <td>Teen</td>\n",
              "      <td>Art &amp; Design</td>\n",
              "      <td>June 8, 2018</td>\n",
              "      <td>Varies with device</td>\n",
              "      <td>4.2 and up</td>\n",
              "    </tr>\n",
              "    <tr>\n",
              "      <th>4</th>\n",
              "      <td>Pixel Draw - Number Art Coloring Book</td>\n",
              "      <td>ART_AND_DESIGN</td>\n",
              "      <td>4.3</td>\n",
              "      <td>967</td>\n",
              "      <td>2.8M</td>\n",
              "      <td>100,000+</td>\n",
              "      <td>Free</td>\n",
              "      <td>0</td>\n",
              "      <td>Everyone</td>\n",
              "      <td>Art &amp; Design;Creativity</td>\n",
              "      <td>June 20, 2018</td>\n",
              "      <td>1.1</td>\n",
              "      <td>4.4 and up</td>\n",
              "    </tr>\n",
              "  </tbody>\n",
              "</table>\n",
              "</div>"
            ],
            "text/plain": [
              "                                                 app  ...   android_ver\n",
              "0     Photo Editor & Candy Camera & Grid & ScrapBook  ...  4.0.3 and up\n",
              "1                                Coloring book moana  ...  4.0.3 and up\n",
              "2  U Launcher Lite – FREE Live Cool Themes, Hide ...  ...  4.0.3 and up\n",
              "3                              Sketch - Draw & Paint  ...    4.2 and up\n",
              "4              Pixel Draw - Number Art Coloring Book  ...    4.4 and up\n",
              "\n",
              "[5 rows x 13 columns]"
            ]
          },
          "metadata": {},
          "execution_count": 72
        }
      ]
    },
    {
      "cell_type": "code",
      "metadata": {
        "colab": {
          "base_uri": "https://localhost:8080/",
          "height": 433
        },
        "id": "24dw_ALci3Ko",
        "outputId": "82fc3f7e-3f31-447b-af12-3af527dcd457"
      },
      "source": [
        "gps_df.tail()"
      ],
      "execution_count": 73,
      "outputs": [
        {
          "output_type": "execute_result",
          "data": {
            "text/html": [
              "<div>\n",
              "<style scoped>\n",
              "    .dataframe tbody tr th:only-of-type {\n",
              "        vertical-align: middle;\n",
              "    }\n",
              "\n",
              "    .dataframe tbody tr th {\n",
              "        vertical-align: top;\n",
              "    }\n",
              "\n",
              "    .dataframe thead th {\n",
              "        text-align: right;\n",
              "    }\n",
              "</style>\n",
              "<table border=\"1\" class=\"dataframe\">\n",
              "  <thead>\n",
              "    <tr style=\"text-align: right;\">\n",
              "      <th></th>\n",
              "      <th>app</th>\n",
              "      <th>category</th>\n",
              "      <th>rating</th>\n",
              "      <th>reviews</th>\n",
              "      <th>size</th>\n",
              "      <th>installs</th>\n",
              "      <th>type</th>\n",
              "      <th>price</th>\n",
              "      <th>content_rating</th>\n",
              "      <th>genres</th>\n",
              "      <th>last_updated</th>\n",
              "      <th>current_ver</th>\n",
              "      <th>android_ver</th>\n",
              "    </tr>\n",
              "  </thead>\n",
              "  <tbody>\n",
              "    <tr>\n",
              "      <th>10836</th>\n",
              "      <td>Sya9a Maroc - FR</td>\n",
              "      <td>FAMILY</td>\n",
              "      <td>4.5</td>\n",
              "      <td>38</td>\n",
              "      <td>53M</td>\n",
              "      <td>5,000+</td>\n",
              "      <td>Free</td>\n",
              "      <td>0</td>\n",
              "      <td>Everyone</td>\n",
              "      <td>Education</td>\n",
              "      <td>July 25, 2017</td>\n",
              "      <td>1.48</td>\n",
              "      <td>4.1 and up</td>\n",
              "    </tr>\n",
              "    <tr>\n",
              "      <th>10837</th>\n",
              "      <td>Fr. Mike Schmitz Audio Teachings</td>\n",
              "      <td>FAMILY</td>\n",
              "      <td>5.0</td>\n",
              "      <td>4</td>\n",
              "      <td>3.6M</td>\n",
              "      <td>100+</td>\n",
              "      <td>Free</td>\n",
              "      <td>0</td>\n",
              "      <td>Everyone</td>\n",
              "      <td>Education</td>\n",
              "      <td>July 6, 2018</td>\n",
              "      <td>1.0</td>\n",
              "      <td>4.1 and up</td>\n",
              "    </tr>\n",
              "    <tr>\n",
              "      <th>10838</th>\n",
              "      <td>Parkinson Exercices FR</td>\n",
              "      <td>MEDICAL</td>\n",
              "      <td>NaN</td>\n",
              "      <td>3</td>\n",
              "      <td>9.5M</td>\n",
              "      <td>1,000+</td>\n",
              "      <td>Free</td>\n",
              "      <td>0</td>\n",
              "      <td>Everyone</td>\n",
              "      <td>Medical</td>\n",
              "      <td>January 20, 2017</td>\n",
              "      <td>1.0</td>\n",
              "      <td>2.2 and up</td>\n",
              "    </tr>\n",
              "    <tr>\n",
              "      <th>10839</th>\n",
              "      <td>The SCP Foundation DB fr nn5n</td>\n",
              "      <td>BOOKS_AND_REFERENCE</td>\n",
              "      <td>4.5</td>\n",
              "      <td>114</td>\n",
              "      <td>Varies with device</td>\n",
              "      <td>1,000+</td>\n",
              "      <td>Free</td>\n",
              "      <td>0</td>\n",
              "      <td>Mature 17+</td>\n",
              "      <td>Books &amp; Reference</td>\n",
              "      <td>January 19, 2015</td>\n",
              "      <td>Varies with device</td>\n",
              "      <td>Varies with device</td>\n",
              "    </tr>\n",
              "    <tr>\n",
              "      <th>10840</th>\n",
              "      <td>iHoroscope - 2018 Daily Horoscope &amp; Astrology</td>\n",
              "      <td>LIFESTYLE</td>\n",
              "      <td>4.5</td>\n",
              "      <td>398307</td>\n",
              "      <td>19M</td>\n",
              "      <td>10,000,000+</td>\n",
              "      <td>Free</td>\n",
              "      <td>0</td>\n",
              "      <td>Everyone</td>\n",
              "      <td>Lifestyle</td>\n",
              "      <td>July 25, 2018</td>\n",
              "      <td>Varies with device</td>\n",
              "      <td>Varies with device</td>\n",
              "    </tr>\n",
              "  </tbody>\n",
              "</table>\n",
              "</div>"
            ],
            "text/plain": [
              "                                                 app  ...         android_ver\n",
              "10836                               Sya9a Maroc - FR  ...          4.1 and up\n",
              "10837               Fr. Mike Schmitz Audio Teachings  ...          4.1 and up\n",
              "10838                         Parkinson Exercices FR  ...          2.2 and up\n",
              "10839                  The SCP Foundation DB fr nn5n  ...  Varies with device\n",
              "10840  iHoroscope - 2018 Daily Horoscope & Astrology  ...  Varies with device\n",
              "\n",
              "[5 rows x 13 columns]"
            ]
          },
          "metadata": {},
          "execution_count": 73
        }
      ]
    },
    {
      "cell_type": "code",
      "metadata": {
        "colab": {
          "base_uri": "https://localhost:8080/"
        },
        "id": "SEGp6rTtjBIk",
        "outputId": "fe0b79e8-c115-457e-82ff-43d4b8ecf777"
      },
      "source": [
        "#Checking the shape of play store data set.\n",
        "print(f\"The shape of google play data store is {gps_df.shape}, where number of rows and columns are {df.shape[0]} ,{gps_df.shape[1]} respectively\")"
      ],
      "execution_count": 74,
      "outputs": [
        {
          "output_type": "stream",
          "text": [
            "The shape of google play data store is (10841, 13), where number of rows and columns are 10841 ,13 respectively\n"
          ],
          "name": "stdout"
        }
      ]
    },
    {
      "cell_type": "code",
      "metadata": {
        "id": "yuw05x1tjL0C"
      },
      "source": [
        "# Dropping the features that we are not using extensively\n",
        "gps_df=gps_df.drop(['current_ver',\"android_ver\"],axis=1)"
      ],
      "execution_count": 75,
      "outputs": []
    },
    {
      "cell_type": "code",
      "metadata": {
        "colab": {
          "base_uri": "https://localhost:8080/"
        },
        "id": "KqW9fhQVjn4N",
        "outputId": "dbb1dc1d-fda7-444a-c6a0-25fbd4880929"
      },
      "source": [
        "# To Know the null values in each row of column\n",
        "gps_df.isnull().sum()"
      ],
      "execution_count": 76,
      "outputs": [
        {
          "output_type": "execute_result",
          "data": {
            "text/plain": [
              "app                  0\n",
              "category             0\n",
              "rating            1474\n",
              "reviews              0\n",
              "size                 0\n",
              "installs             0\n",
              "type                 1\n",
              "price                0\n",
              "content_rating       1\n",
              "genres               0\n",
              "last_updated         0\n",
              "dtype: int64"
            ]
          },
          "metadata": {},
          "execution_count": 76
        }
      ]
    },
    {
      "cell_type": "markdown",
      "metadata": {
        "id": "y2nzFxp1jwRw"
      },
      "source": [
        "###As we can explicitly see that there are 1474 missing values in rating columns. We have to fill these values with proper calculation. . But the question is how to handle the rating columns because we can not assign those as median, mean, or mode as in real life ratings are given by the customers, We are now using forward linear interpolation to fill nan values inside the rating column."
      ]
    },
    {
      "cell_type": "code",
      "metadata": {
        "id": "-bgdeAklj0Vs"
      },
      "source": [
        "#Handling Missing values using interpolate forward linear method\n",
        "gps_df.interpolate(method='linear',limit_direction='forward',inplace=True)"
      ],
      "execution_count": 77,
      "outputs": []
    },
    {
      "cell_type": "code",
      "metadata": {
        "colab": {
          "base_uri": "https://localhost:8080/"
        },
        "id": "PylUAuQZj7P8",
        "outputId": "f7709b3c-60a4-4fb5-a944-84cc9fcb5a5d"
      },
      "source": [
        "# Recheck for Null Values\n",
        "gps_df.isnull().sum()"
      ],
      "execution_count": 78,
      "outputs": [
        {
          "output_type": "execute_result",
          "data": {
            "text/plain": [
              "app               0\n",
              "category          0\n",
              "rating            0\n",
              "reviews           0\n",
              "size              0\n",
              "installs          0\n",
              "type              1\n",
              "price             0\n",
              "content_rating    1\n",
              "genres            0\n",
              "last_updated      0\n",
              "dtype: int64"
            ]
          },
          "metadata": {},
          "execution_count": 78
        }
      ]
    },
    {
      "cell_type": "markdown",
      "metadata": {
        "id": "TPRKnXqOj_-G"
      },
      "source": [
        "###As we can see there is one missing value in the content rating feature and one missing value inside type features, now we will be filling those two values with appropriate values."
      ]
    },
    {
      "cell_type": "code",
      "metadata": {
        "id": "SFkm9Rn2kKBW"
      },
      "source": [
        "# Filling NAN values with suitable values\n",
        "gps_df['content_rating'].fillna(value='everyone',inplace=True)\n",
        "gps_df['type'].fillna(value='free',inplace=True)"
      ],
      "execution_count": 79,
      "outputs": []
    },
    {
      "cell_type": "code",
      "metadata": {
        "colab": {
          "base_uri": "https://localhost:8080/"
        },
        "id": "qOuYg6JykeZk",
        "outputId": "d8a5c374-4ba6-4ea0-ad22-22f4bb73d0f6"
      },
      "source": [
        "# Final Check for NULL values\n",
        "gps_df.isnull().sum().any()"
      ],
      "execution_count": 80,
      "outputs": [
        {
          "output_type": "execute_result",
          "data": {
            "text/plain": [
              "False"
            ]
          },
          "metadata": {},
          "execution_count": 80
        }
      ]
    },
    {
      "cell_type": "code",
      "metadata": {
        "colab": {
          "base_uri": "https://localhost:8080/"
        },
        "id": "CaXkXb2BkjTm",
        "outputId": "af8e5ea0-77c1-4cba-ad35-272c93264876"
      },
      "source": [
        "# Look at the Information\n",
        "gps_df.info()"
      ],
      "execution_count": 81,
      "outputs": [
        {
          "output_type": "stream",
          "text": [
            "<class 'pandas.core.frame.DataFrame'>\n",
            "RangeIndex: 10841 entries, 0 to 10840\n",
            "Data columns (total 11 columns):\n",
            " #   Column          Non-Null Count  Dtype  \n",
            "---  ------          --------------  -----  \n",
            " 0   app             10841 non-null  object \n",
            " 1   category        10841 non-null  object \n",
            " 2   rating          10841 non-null  float64\n",
            " 3   reviews         10841 non-null  object \n",
            " 4   size            10841 non-null  object \n",
            " 5   installs        10841 non-null  object \n",
            " 6   type            10841 non-null  object \n",
            " 7   price           10841 non-null  object \n",
            " 8   content_rating  10841 non-null  object \n",
            " 9   genres          10841 non-null  object \n",
            " 10  last_updated    10841 non-null  object \n",
            "dtypes: float64(1), object(10)\n",
            "memory usage: 931.8+ KB\n"
          ],
          "name": "stdout"
        }
      ]
    },
    {
      "cell_type": "markdown",
      "metadata": {
        "id": "YwsZtqotkrZ2"
      },
      "source": [
        "###Step 2 - Cleaning Start\n",
        "\n",
        "###After looking at the information about all data features in given data set, there is demand to work around data and make it useable flawlessly, Let's get down to business guys!"
      ]
    },
    {
      "cell_type": "code",
      "metadata": {
        "id": "vtFFfXgxkwUg"
      },
      "source": [
        "# Converting the datatype into porper data structure ,through ratings are already float64,just confirming.\n",
        "gps_df['rating']=gps_df['rating'].astype(str).astype(float)"
      ],
      "execution_count": 82,
      "outputs": []
    },
    {
      "cell_type": "code",
      "metadata": {
        "id": "Qd9i63mEk6FR"
      },
      "source": [
        "# As we can see in play store info need to typecast this to the proper intiger\n",
        "gps_df['reviews']=gps_df['reviews'].apply(lambda x:x.replace(\"3.0M\",\"3000000\"))\n",
        "gps_df['reviews']=gps_df['reviews'].apply(lambda x:int(x))"
      ],
      "execution_count": 83,
      "outputs": []
    },
    {
      "cell_type": "code",
      "metadata": {
        "id": "uNzjQgfXlIh0"
      },
      "source": [
        "# Converting Number of Installs into proper intiger\n",
        "gps_df=gps_df[gps_df['installs']!='Free']\n",
        "gps_df['installs']=gps_df['installs'].apply(lambda x:x.replace(\"+\",\"\") if \"+\" in str(x) else x)\n",
        "gps_df['installs']=gps_df['installs'].apply(lambda x:x.replace(\".\",\"\") if \",\" in str(x) else x)\n",
        "gps_df['installs']=gps_df['installs'].apply (lambda x: int())"
      ],
      "execution_count": 84,
      "outputs": []
    },
    {
      "cell_type": "code",
      "metadata": {
        "id": "_AmfEsOQleXF"
      },
      "source": [
        "# price never be an object it should be float\n",
        "gps_df['price']=gps_df['price'].apply(lambda x:x.replace (\"$\",\"\") if \"$\" in str(x) else x)\n",
        "gps_df['price']=gps_df['price'].apply(lambda x: float(x))"
      ],
      "execution_count": 85,
      "outputs": []
    },
    {
      "cell_type": "code",
      "metadata": {
        "id": "beGmkvmIl0zi"
      },
      "source": [
        "# Now fix the  Size Column\n",
        "gps_df['size']=gps_df['size'].apply(lambda x: str(x).replace(\"varies with device\",\"NaN\") if \"varies with device\" in str(x) else x)\n",
        "gps_df['size']=gps_df['size'].apply(lambda x :str(x).replace(\"M\",\"\") if \"M\" in str(x) else x)\n",
        "gps_df['size']=gps_df['size'].apply(lambda x: float(str(x).replace(\"k\",\"\"))/1000 if \"k\" in str(x) else x)\n",
        "gps_df['size']=gps_df['size'].apply(lambda x: float())"
      ],
      "execution_count": 86,
      "outputs": []
    },
    {
      "cell_type": "code",
      "metadata": {
        "id": "Y3RQ-w9amL35"
      },
      "source": [
        "# Fixing last updated object to date time\n",
        "gps_df['last_updated'].unique()\n",
        "gps_df['last_updated']=pd.to_datetime(gps_df['last_updated'])"
      ],
      "execution_count": 87,
      "outputs": []
    },
    {
      "cell_type": "code",
      "metadata": {
        "colab": {
          "base_uri": "https://localhost:8080/"
        },
        "id": "HBDVBhs2moEQ",
        "outputId": "66db4dea-edc1-4b6b-e3df-1b39f32dcbdb"
      },
      "source": [
        "# Ubique catagory\n",
        "len(gps_df['category'].unique())"
      ],
      "execution_count": 88,
      "outputs": [
        {
          "output_type": "execute_result",
          "data": {
            "text/plain": [
              "33"
            ]
          },
          "metadata": {},
          "execution_count": 88
        }
      ]
    },
    {
      "cell_type": "markdown",
      "metadata": {
        "id": "EXRKJturmwap"
      },
      "source": [
        "###Step 3. Extracting statistics from the dataset\n",
        "\n",
        "###Here we will be doing some statistical analysis of data using pandas built-in method called describe(). Describe only works for the numerical features"
      ]
    },
    {
      "cell_type": "code",
      "metadata": {
        "colab": {
          "base_uri": "https://localhost:8080/",
          "height": 299
        },
        "id": "ZjD72cudm09B",
        "outputId": "9a676974-b226-4732-e610-4692504103f4"
      },
      "source": [
        "# Let's take some statistical taste of play store dataframe:\n",
        "gps_df.describe()"
      ],
      "execution_count": 89,
      "outputs": [
        {
          "output_type": "execute_result",
          "data": {
            "text/html": [
              "<div>\n",
              "<style scoped>\n",
              "    .dataframe tbody tr th:only-of-type {\n",
              "        vertical-align: middle;\n",
              "    }\n",
              "\n",
              "    .dataframe tbody tr th {\n",
              "        vertical-align: top;\n",
              "    }\n",
              "\n",
              "    .dataframe thead th {\n",
              "        text-align: right;\n",
              "    }\n",
              "</style>\n",
              "<table border=\"1\" class=\"dataframe\">\n",
              "  <thead>\n",
              "    <tr style=\"text-align: right;\">\n",
              "      <th></th>\n",
              "      <th>rating</th>\n",
              "      <th>reviews</th>\n",
              "      <th>size</th>\n",
              "      <th>installs</th>\n",
              "      <th>price</th>\n",
              "    </tr>\n",
              "  </thead>\n",
              "  <tbody>\n",
              "    <tr>\n",
              "      <th>count</th>\n",
              "      <td>10840.000000</td>\n",
              "      <td>1.084000e+04</td>\n",
              "      <td>10840.0</td>\n",
              "      <td>10840.0</td>\n",
              "      <td>10840.000000</td>\n",
              "    </tr>\n",
              "    <tr>\n",
              "      <th>mean</th>\n",
              "      <td>4.190567</td>\n",
              "      <td>4.441529e+05</td>\n",
              "      <td>0.0</td>\n",
              "      <td>0.0</td>\n",
              "      <td>1.027368</td>\n",
              "    </tr>\n",
              "    <tr>\n",
              "      <th>std</th>\n",
              "      <td>0.517606</td>\n",
              "      <td>2.927761e+06</td>\n",
              "      <td>0.0</td>\n",
              "      <td>0.0</td>\n",
              "      <td>15.949703</td>\n",
              "    </tr>\n",
              "    <tr>\n",
              "      <th>min</th>\n",
              "      <td>1.000000</td>\n",
              "      <td>0.000000e+00</td>\n",
              "      <td>0.0</td>\n",
              "      <td>0.0</td>\n",
              "      <td>0.000000</td>\n",
              "    </tr>\n",
              "    <tr>\n",
              "      <th>25%</th>\n",
              "      <td>4.000000</td>\n",
              "      <td>3.800000e+01</td>\n",
              "      <td>0.0</td>\n",
              "      <td>0.0</td>\n",
              "      <td>0.000000</td>\n",
              "    </tr>\n",
              "    <tr>\n",
              "      <th>50%</th>\n",
              "      <td>4.300000</td>\n",
              "      <td>2.094000e+03</td>\n",
              "      <td>0.0</td>\n",
              "      <td>0.0</td>\n",
              "      <td>0.000000</td>\n",
              "    </tr>\n",
              "    <tr>\n",
              "      <th>75%</th>\n",
              "      <td>4.500000</td>\n",
              "      <td>5.477550e+04</td>\n",
              "      <td>0.0</td>\n",
              "      <td>0.0</td>\n",
              "      <td>0.000000</td>\n",
              "    </tr>\n",
              "    <tr>\n",
              "      <th>max</th>\n",
              "      <td>5.000000</td>\n",
              "      <td>7.815831e+07</td>\n",
              "      <td>0.0</td>\n",
              "      <td>0.0</td>\n",
              "      <td>400.000000</td>\n",
              "    </tr>\n",
              "  </tbody>\n",
              "</table>\n",
              "</div>"
            ],
            "text/plain": [
              "             rating       reviews     size  installs         price\n",
              "count  10840.000000  1.084000e+04  10840.0   10840.0  10840.000000\n",
              "mean       4.190567  4.441529e+05      0.0       0.0      1.027368\n",
              "std        0.517606  2.927761e+06      0.0       0.0     15.949703\n",
              "min        1.000000  0.000000e+00      0.0       0.0      0.000000\n",
              "25%        4.000000  3.800000e+01      0.0       0.0      0.000000\n",
              "50%        4.300000  2.094000e+03      0.0       0.0      0.000000\n",
              "75%        4.500000  5.477550e+04      0.0       0.0      0.000000\n",
              "max        5.000000  7.815831e+07      0.0       0.0    400.000000"
            ]
          },
          "metadata": {},
          "execution_count": 89
        }
      ]
    }
  ]
}