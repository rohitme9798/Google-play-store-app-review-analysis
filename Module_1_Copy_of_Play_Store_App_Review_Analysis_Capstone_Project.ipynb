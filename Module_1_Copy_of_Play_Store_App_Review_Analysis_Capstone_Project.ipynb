{
  "nbformat": 4,
  "nbformat_minor": 0,
  "metadata": {
    "kernelspec": {
      "display_name": "Python 3",
      "language": "python",
      "name": "python3"
    },
    "language_info": {
      "codemirror_mode": {
        "name": "ipython",
        "version": 3
      },
      "file_extension": ".py",
      "mimetype": "text/x-python",
      "name": "python",
      "nbconvert_exporter": "python",
      "pygments_lexer": "ipython3",
      "version": "3.6.6"
    },
    "colab": {
      "name": "Module 1 Copy of Play Store App Review Analysis - Capstone Project.ipynb",
      "provenance": [],
      "include_colab_link": true
    }
  },
  "cells": [
    {
      "cell_type": "markdown",
      "metadata": {
        "id": "view-in-github",
        "colab_type": "text"
      },
      "source": [
        "<a href=\"https://colab.research.google.com/github/rohitme9798/Google-play-store-app-review-analysis/blob/main/Module_1_Copy_of_Play_Store_App_Review_Analysis_Capstone_Project.ipynb\" target=\"_parent\"><img src=\"https://colab.research.google.com/assets/colab-badge.svg\" alt=\"Open In Colab\"/></a>"
      ]
    },
    {
      "cell_type": "markdown",
      "metadata": {
        "id": "MqpftEXTpJU1"
      },
      "source": [
        "###The Play Store apps data has enormous potential to drive app-making businesses to success. Actionable insights can be drawn for developers to work on and capture the Android market.\n",
        "###Each app (row) has values for catergory, rating, size, and more. Another dataset contains customer reviews of the android apps.\n",
        "###Explore and analyze the data to discover key factors responsible for app engagement and success"
      ]
    },
    {
      "cell_type": "markdown",
      "metadata": {
        "id": "RzTV6Hk0pWx1"
      },
      "source": [
        "###Before deep-diving straight into the problem solution, we need to create a roadmap which we will be referring to throughout this exploratory data analysis.\n",
        "\n",
        "###Google Play Store is a digital store managed and developed by Google, which provides services like installing applications for android and Chrome-based OS users.\n",
        "###After installing applications some users give reviews and rating for the app they have used, this ratings and reviews defines the satisfaction of the customers, that's directly proportional to the performance of the app. So it is essential to analyze these ratings and reviews to improve the quality of service which will cater to the need of end-users.\n",
        "###The objective of this project is to deliver insights to understand customer demands better and thus help developers to popularize the product. It is of 10k Play Store apps for analyzing the Android market. This dataset contains details of different applications and reviews from different users.\n",
        "###Discussion of Google play store dataset will involve various steps such as\n",
        "###1. loading the data into the data frame\n",
        "###2. cleaning the data\n",
        "###3. extracting statistics from the dataset\n",
        "###4. exploratory analysis and visualizations\n",
        "###5. questions that can be asked from the dataset\n",
        "###6. conclusion"
      ]
    },
    {
      "cell_type": "code",
      "metadata": {
        "id": "CV6WPgu-pqIj"
      },
      "source": [
        "# Let's go importing all the store of weapons needed, just kidding!\n",
        "import numpy as np\n",
        "import pandas as pd\n",
        "import matplotlib.pyplot as plt\n",
        "import seaborn as sns\n",
        "%matplotlib inline\n",
        "import warnings\n",
        "warnings.filterwarnings(\"ignore\")\n",
        "sns.set(rc={'figure.figsize':(16,7)})\n",
        "from pylab import rcParams"
      ],
      "execution_count": null,
      "outputs": []
    },
    {
      "cell_type": "code",
      "metadata": {
        "id": "psfWFS5AqESf",
        "colab": {
          "base_uri": "https://localhost:8080/"
        },
        "outputId": "36c025d2-d6bc-444d-eebe-5faea09b0089"
      },
      "source": [
        "# Mount drive with google colab notebook\n",
        "from google.colab import drive\n",
        "drive.mount('/content/drive')"
      ],
      "execution_count": null,
      "outputs": [
        {
          "output_type": "stream",
          "text": [
            "Mounted at /content/drive\n"
          ],
          "name": "stdout"
        }
      ]
    },
    {
      "cell_type": "markdown",
      "metadata": {
        "id": "z-5m3rKHqUSt"
      },
      "source": [
        "###Step 1. As per the roadmap we have created let's put feet on the first step i.e loading the dataset into dataframe"
      ]
    },
    {
      "cell_type": "code",
      "metadata": {
        "id": "aHhpMq11qUG9"
      },
      "source": [
        "# Create the directorial path for data\n",
        "dir_path=\"/content/drive/MyDrive/Almabetter/Play Store App Review Analysis/Play Store Data.csv\""
      ],
      "execution_count": null,
      "outputs": []
    },
    {
      "cell_type": "code",
      "metadata": {
        "id": "Cat-tu-gqmTV"
      },
      "source": [
        "# Let's read it\n",
        "play_store_df=pd.read_csv(dir_path)"
      ],
      "execution_count": null,
      "outputs": []
    },
    {
      "cell_type": "code",
      "metadata": {
        "id": "VyoyAdOUrps3"
      },
      "source": [
        "#  Writing a small for loop to convert uppercase to lowercase and replacing the spaces with underscore\n",
        "play_store_df.columns=[str(x).lower().replace(\" \",\"_\") for x in play_store_df.columns]"
      ],
      "execution_count": null,
      "outputs": []
    },
    {
      "cell_type": "code",
      "metadata": {
        "id": "5MmfB6iPrpkt",
        "colab": {
          "base_uri": "https://localhost:8080/",
          "height": 554
        },
        "outputId": "ce66af44-9c68-4dad-dd87-7101ffba44a2"
      },
      "source": [
        "# Check data what it has from top!\n",
        "play_store_df.head()"
      ],
      "execution_count": null,
      "outputs": [
        {
          "output_type": "execute_result",
          "data": {
            "text/html": [
              "<div>\n",
              "<style scoped>\n",
              "    .dataframe tbody tr th:only-of-type {\n",
              "        vertical-align: middle;\n",
              "    }\n",
              "\n",
              "    .dataframe tbody tr th {\n",
              "        vertical-align: top;\n",
              "    }\n",
              "\n",
              "    .dataframe thead th {\n",
              "        text-align: right;\n",
              "    }\n",
              "</style>\n",
              "<table border=\"1\" class=\"dataframe\">\n",
              "  <thead>\n",
              "    <tr style=\"text-align: right;\">\n",
              "      <th></th>\n",
              "      <th>app</th>\n",
              "      <th>category</th>\n",
              "      <th>rating</th>\n",
              "      <th>reviews</th>\n",
              "      <th>size</th>\n",
              "      <th>installs</th>\n",
              "      <th>type</th>\n",
              "      <th>price</th>\n",
              "      <th>content_rating</th>\n",
              "      <th>genres</th>\n",
              "      <th>last_updated</th>\n",
              "      <th>current_ver</th>\n",
              "      <th>android_ver</th>\n",
              "    </tr>\n",
              "  </thead>\n",
              "  <tbody>\n",
              "    <tr>\n",
              "      <th>0</th>\n",
              "      <td>Photo Editor &amp; Candy Camera &amp; Grid &amp; ScrapBook</td>\n",
              "      <td>ART_AND_DESIGN</td>\n",
              "      <td>4.1</td>\n",
              "      <td>159</td>\n",
              "      <td>19M</td>\n",
              "      <td>10,000+</td>\n",
              "      <td>Free</td>\n",
              "      <td>0</td>\n",
              "      <td>Everyone</td>\n",
              "      <td>Art &amp; Design</td>\n",
              "      <td>January 7, 2018</td>\n",
              "      <td>1.0.0</td>\n",
              "      <td>4.0.3 and up</td>\n",
              "    </tr>\n",
              "    <tr>\n",
              "      <th>1</th>\n",
              "      <td>Coloring book moana</td>\n",
              "      <td>ART_AND_DESIGN</td>\n",
              "      <td>3.9</td>\n",
              "      <td>967</td>\n",
              "      <td>14M</td>\n",
              "      <td>500,000+</td>\n",
              "      <td>Free</td>\n",
              "      <td>0</td>\n",
              "      <td>Everyone</td>\n",
              "      <td>Art &amp; Design;Pretend Play</td>\n",
              "      <td>January 15, 2018</td>\n",
              "      <td>2.0.0</td>\n",
              "      <td>4.0.3 and up</td>\n",
              "    </tr>\n",
              "    <tr>\n",
              "      <th>2</th>\n",
              "      <td>U Launcher Lite – FREE Live Cool Themes, Hide ...</td>\n",
              "      <td>ART_AND_DESIGN</td>\n",
              "      <td>4.7</td>\n",
              "      <td>87510</td>\n",
              "      <td>8.7M</td>\n",
              "      <td>5,000,000+</td>\n",
              "      <td>Free</td>\n",
              "      <td>0</td>\n",
              "      <td>Everyone</td>\n",
              "      <td>Art &amp; Design</td>\n",
              "      <td>August 1, 2018</td>\n",
              "      <td>1.2.4</td>\n",
              "      <td>4.0.3 and up</td>\n",
              "    </tr>\n",
              "    <tr>\n",
              "      <th>3</th>\n",
              "      <td>Sketch - Draw &amp; Paint</td>\n",
              "      <td>ART_AND_DESIGN</td>\n",
              "      <td>4.5</td>\n",
              "      <td>215644</td>\n",
              "      <td>25M</td>\n",
              "      <td>50,000,000+</td>\n",
              "      <td>Free</td>\n",
              "      <td>0</td>\n",
              "      <td>Teen</td>\n",
              "      <td>Art &amp; Design</td>\n",
              "      <td>June 8, 2018</td>\n",
              "      <td>Varies with device</td>\n",
              "      <td>4.2 and up</td>\n",
              "    </tr>\n",
              "    <tr>\n",
              "      <th>4</th>\n",
              "      <td>Pixel Draw - Number Art Coloring Book</td>\n",
              "      <td>ART_AND_DESIGN</td>\n",
              "      <td>4.3</td>\n",
              "      <td>967</td>\n",
              "      <td>2.8M</td>\n",
              "      <td>100,000+</td>\n",
              "      <td>Free</td>\n",
              "      <td>0</td>\n",
              "      <td>Everyone</td>\n",
              "      <td>Art &amp; Design;Creativity</td>\n",
              "      <td>June 20, 2018</td>\n",
              "      <td>1.1</td>\n",
              "      <td>4.4 and up</td>\n",
              "    </tr>\n",
              "  </tbody>\n",
              "</table>\n",
              "</div>"
            ],
            "text/plain": [
              "                                                 app  ...   android_ver\n",
              "0     Photo Editor & Candy Camera & Grid & ScrapBook  ...  4.0.3 and up\n",
              "1                                Coloring book moana  ...  4.0.3 and up\n",
              "2  U Launcher Lite – FREE Live Cool Themes, Hide ...  ...  4.0.3 and up\n",
              "3                              Sketch - Draw & Paint  ...    4.2 and up\n",
              "4              Pixel Draw - Number Art Coloring Book  ...    4.4 and up\n",
              "\n",
              "[5 rows x 13 columns]"
            ]
          },
          "metadata": {},
          "execution_count": 9
        }
      ]
    },
    {
      "cell_type": "code",
      "metadata": {
        "id": "ZKWoche_rx9N",
        "colab": {
          "base_uri": "https://localhost:8080/",
          "height": 433
        },
        "outputId": "2fb984bc-e065-4a1c-9d37-b14c6d8dde82"
      },
      "source": [
        "# Check it from bottom\n",
        "play_store_df.tail()"
      ],
      "execution_count": null,
      "outputs": [
        {
          "output_type": "execute_result",
          "data": {
            "text/html": [
              "<div>\n",
              "<style scoped>\n",
              "    .dataframe tbody tr th:only-of-type {\n",
              "        vertical-align: middle;\n",
              "    }\n",
              "\n",
              "    .dataframe tbody tr th {\n",
              "        vertical-align: top;\n",
              "    }\n",
              "\n",
              "    .dataframe thead th {\n",
              "        text-align: right;\n",
              "    }\n",
              "</style>\n",
              "<table border=\"1\" class=\"dataframe\">\n",
              "  <thead>\n",
              "    <tr style=\"text-align: right;\">\n",
              "      <th></th>\n",
              "      <th>app</th>\n",
              "      <th>category</th>\n",
              "      <th>rating</th>\n",
              "      <th>reviews</th>\n",
              "      <th>size</th>\n",
              "      <th>installs</th>\n",
              "      <th>type</th>\n",
              "      <th>price</th>\n",
              "      <th>content_rating</th>\n",
              "      <th>genres</th>\n",
              "      <th>last_updated</th>\n",
              "      <th>current_ver</th>\n",
              "      <th>android_ver</th>\n",
              "    </tr>\n",
              "  </thead>\n",
              "  <tbody>\n",
              "    <tr>\n",
              "      <th>10836</th>\n",
              "      <td>Sya9a Maroc - FR</td>\n",
              "      <td>FAMILY</td>\n",
              "      <td>4.5</td>\n",
              "      <td>38</td>\n",
              "      <td>53M</td>\n",
              "      <td>5,000+</td>\n",
              "      <td>Free</td>\n",
              "      <td>0</td>\n",
              "      <td>Everyone</td>\n",
              "      <td>Education</td>\n",
              "      <td>July 25, 2017</td>\n",
              "      <td>1.48</td>\n",
              "      <td>4.1 and up</td>\n",
              "    </tr>\n",
              "    <tr>\n",
              "      <th>10837</th>\n",
              "      <td>Fr. Mike Schmitz Audio Teachings</td>\n",
              "      <td>FAMILY</td>\n",
              "      <td>5.0</td>\n",
              "      <td>4</td>\n",
              "      <td>3.6M</td>\n",
              "      <td>100+</td>\n",
              "      <td>Free</td>\n",
              "      <td>0</td>\n",
              "      <td>Everyone</td>\n",
              "      <td>Education</td>\n",
              "      <td>July 6, 2018</td>\n",
              "      <td>1.0</td>\n",
              "      <td>4.1 and up</td>\n",
              "    </tr>\n",
              "    <tr>\n",
              "      <th>10838</th>\n",
              "      <td>Parkinson Exercices FR</td>\n",
              "      <td>MEDICAL</td>\n",
              "      <td>NaN</td>\n",
              "      <td>3</td>\n",
              "      <td>9.5M</td>\n",
              "      <td>1,000+</td>\n",
              "      <td>Free</td>\n",
              "      <td>0</td>\n",
              "      <td>Everyone</td>\n",
              "      <td>Medical</td>\n",
              "      <td>January 20, 2017</td>\n",
              "      <td>1.0</td>\n",
              "      <td>2.2 and up</td>\n",
              "    </tr>\n",
              "    <tr>\n",
              "      <th>10839</th>\n",
              "      <td>The SCP Foundation DB fr nn5n</td>\n",
              "      <td>BOOKS_AND_REFERENCE</td>\n",
              "      <td>4.5</td>\n",
              "      <td>114</td>\n",
              "      <td>Varies with device</td>\n",
              "      <td>1,000+</td>\n",
              "      <td>Free</td>\n",
              "      <td>0</td>\n",
              "      <td>Mature 17+</td>\n",
              "      <td>Books &amp; Reference</td>\n",
              "      <td>January 19, 2015</td>\n",
              "      <td>Varies with device</td>\n",
              "      <td>Varies with device</td>\n",
              "    </tr>\n",
              "    <tr>\n",
              "      <th>10840</th>\n",
              "      <td>iHoroscope - 2018 Daily Horoscope &amp; Astrology</td>\n",
              "      <td>LIFESTYLE</td>\n",
              "      <td>4.5</td>\n",
              "      <td>398307</td>\n",
              "      <td>19M</td>\n",
              "      <td>10,000,000+</td>\n",
              "      <td>Free</td>\n",
              "      <td>0</td>\n",
              "      <td>Everyone</td>\n",
              "      <td>Lifestyle</td>\n",
              "      <td>July 25, 2018</td>\n",
              "      <td>Varies with device</td>\n",
              "      <td>Varies with device</td>\n",
              "    </tr>\n",
              "  </tbody>\n",
              "</table>\n",
              "</div>"
            ],
            "text/plain": [
              "                                                 app  ...         android_ver\n",
              "10836                               Sya9a Maroc - FR  ...          4.1 and up\n",
              "10837               Fr. Mike Schmitz Audio Teachings  ...          4.1 and up\n",
              "10838                         Parkinson Exercices FR  ...          2.2 and up\n",
              "10839                  The SCP Foundation DB fr nn5n  ...  Varies with device\n",
              "10840  iHoroscope - 2018 Daily Horoscope & Astrology  ...  Varies with device\n",
              "\n",
              "[5 rows x 13 columns]"
            ]
          },
          "metadata": {},
          "execution_count": 10
        }
      ]
    },
    {
      "cell_type": "code",
      "metadata": {
        "id": "lEZ5jB2pr3iR",
        "colab": {
          "base_uri": "https://localhost:8080/"
        },
        "outputId": "e994cef6-d374-4d16-9c13-c4067fced68c"
      },
      "source": [
        "# Checking the shape of the play store data set.\n",
        "print(f\"The shape of the google play store data set is {play_store_df.shape}, where number of rows are  {play_store_df.shape[0]}  and {play_store_df.shape[1]} columns\")"
      ],
      "execution_count": null,
      "outputs": [
        {
          "output_type": "stream",
          "text": [
            "The shape of the google play store data set is (10841, 13), where number of rows are  10841  and 13 columns\n"
          ],
          "name": "stdout"
        }
      ]
    },
    {
      "cell_type": "code",
      "metadata": {
        "id": "3A_EAvvPr7G-",
        "colab": {
          "base_uri": "https://localhost:8080/"
        },
        "outputId": "b5193b3d-ee15-46f7-d57d-b763af752858"
      },
      "source": [
        "# Need to know the null values in each row of columns:\n",
        "play_store_df.isnull().sum()"
      ],
      "execution_count": null,
      "outputs": [
        {
          "output_type": "execute_result",
          "data": {
            "text/plain": [
              "app                  0\n",
              "category             0\n",
              "rating            1474\n",
              "reviews              0\n",
              "size                 0\n",
              "installs             0\n",
              "type                 1\n",
              "price                0\n",
              "content_rating       1\n",
              "genres               0\n",
              "last_updated         0\n",
              "current_ver          8\n",
              "android_ver          3\n",
              "dtype: int64"
            ]
          },
          "metadata": {},
          "execution_count": 12
        }
      ]
    },
    {
      "cell_type": "markdown",
      "metadata": {
        "id": "WDGJbD2xr_V9"
      },
      "source": [
        "###As we can explicitly see that there are 1474 missing values in rating columns. We have to fill these values with proper calculation. . But the question is how to handle the rating columns because we can not assign those as median, mean, or mode as in real life ratings are given by the customers, We are now using forward linear interpolation to fill nan values inside the rating column."
      ]
    },
    {
      "cell_type": "code",
      "metadata": {
        "id": "ppLj5shlsDgj"
      },
      "source": [
        "# Missing Value Handling using interpolate forward linear method.\n",
        "play_store_df.interpolate(method='linear',limit_direction='forward',inplace=True)"
      ],
      "execution_count": null,
      "outputs": []
    },
    {
      "cell_type": "code",
      "metadata": {
        "id": "ouA2YNdwsIU2",
        "colab": {
          "base_uri": "https://localhost:8080/"
        },
        "outputId": "84c0d1b0-6253-4c23-b791-d5f6fe420885"
      },
      "source": [
        "# Rechecking for null values\n",
        "play_store_df.isnull().sum()"
      ],
      "execution_count": null,
      "outputs": [
        {
          "output_type": "execute_result",
          "data": {
            "text/plain": [
              "app               0\n",
              "category          0\n",
              "rating            0\n",
              "reviews           0\n",
              "size              0\n",
              "installs          0\n",
              "type              1\n",
              "price             0\n",
              "content_rating    1\n",
              "genres            0\n",
              "last_updated      0\n",
              "current_ver       8\n",
              "android_ver       3\n",
              "dtype: int64"
            ]
          },
          "metadata": {},
          "execution_count": 14
        }
      ]
    },
    {
      "cell_type": "markdown",
      "metadata": {
        "id": "7MDp-UVXsPEY"
      },
      "source": [
        "###As we can see there is one missing value in the content rating feature and one missing value inside type features, now we will be filling those two values with appropriate values."
      ]
    },
    {
      "cell_type": "code",
      "metadata": {
        "id": "sOIWAIFosSf7"
      },
      "source": [
        "# Filling NAN with suitable values\n",
        "play_store_df['content_rating'].fillna(value='Everyone',inplace=True)\n",
        "play_store_df['type'].fillna(value='Free',inplace=True)"
      ],
      "execution_count": null,
      "outputs": []
    },
    {
      "cell_type": "code",
      "metadata": {
        "id": "U_e0v_zFsV89",
        "colab": {
          "base_uri": "https://localhost:8080/"
        },
        "outputId": "c1cf96b2-5147-49ba-da56-285ff4a3d298"
      },
      "source": [
        "# Final Check For Null Values.\n",
        "play_store_df.isnull().sum().any()"
      ],
      "execution_count": null,
      "outputs": [
        {
          "output_type": "execute_result",
          "data": {
            "text/plain": [
              "True"
            ]
          },
          "metadata": {},
          "execution_count": 16
        }
      ]
    },
    {
      "cell_type": "code",
      "metadata": {
        "id": "PxYj3F9HsZxS",
        "colab": {
          "base_uri": "https://localhost:8080/"
        },
        "outputId": "317bde51-7a8b-4d60-c420-5d2712b0391b"
      },
      "source": [
        "# Let's have a look at the information \n",
        "play_store_df.info()"
      ],
      "execution_count": null,
      "outputs": [
        {
          "output_type": "stream",
          "text": [
            "<class 'pandas.core.frame.DataFrame'>\n",
            "RangeIndex: 10841 entries, 0 to 10840\n",
            "Data columns (total 13 columns):\n",
            " #   Column          Non-Null Count  Dtype  \n",
            "---  ------          --------------  -----  \n",
            " 0   app             10841 non-null  object \n",
            " 1   category        10841 non-null  object \n",
            " 2   rating          10841 non-null  float64\n",
            " 3   reviews         10841 non-null  object \n",
            " 4   size            10841 non-null  object \n",
            " 5   installs        10841 non-null  object \n",
            " 6   type            10841 non-null  object \n",
            " 7   price           10841 non-null  object \n",
            " 8   content_rating  10841 non-null  object \n",
            " 9   genres          10841 non-null  object \n",
            " 10  last_updated    10841 non-null  object \n",
            " 11  current_ver     10833 non-null  object \n",
            " 12  android_ver     10838 non-null  object \n",
            "dtypes: float64(1), object(12)\n",
            "memory usage: 1.1+ MB\n"
          ],
          "name": "stdout"
        }
      ]
    },
    {
      "cell_type": "markdown",
      "metadata": {
        "id": "uFMP_C_SsgUR"
      },
      "source": [
        "###Step 2. Mission Cleaning Starts here!\n",
        "\n",
        "####After looking at the information about all data features in given data set, there is demand to work around data and make it useable flawlessly, Let's get down to business guys!"
      ]
    },
    {
      "cell_type": "code",
      "metadata": {
        "id": "u-JgSLddsf0-"
      },
      "source": [
        "# Converting the into the proper data structure, though ratings are already a float64, just comfirming.\n",
        "play_store_df['rating']=play_store_df['rating'].astype(str).astype(float)"
      ],
      "execution_count": null,
      "outputs": []
    },
    {
      "cell_type": "code",
      "metadata": {
        "id": "1yfa3A9oss0s"
      },
      "source": [
        "# As we can see in play store info we need to typecast this to the proper integer\n",
        "play_store_df['reviews']=play_store_df['reviews'].apply(lambda x:x.replace(\"3.0M\",\"3000000\"))\n",
        "play_store_df['reviews']=play_store_df['reviews'].apply(lambda x: int(x))"
      ],
      "execution_count": null,
      "outputs": []
    },
    {
      "cell_type": "code",
      "metadata": {
        "id": "JtBkdiaGsxWT"
      },
      "source": [
        "# Just converting the number of installs into proper integer number\n",
        "play_store_df=play_store_df[play_store_df['installs']!='Free']\n",
        "play_store_df['installs']=play_store_df['installs'].apply(lambda x : x.replace(\"+\",\"\")if \"+\" in str(x) else x)\n",
        "play_store_df['installs']=play_store_df['installs'].apply(lambda x: x.replace(\",\",\"\") if \",\" in str(x) else x)\n",
        "play_store_df['installs']=play_store_df['installs'].apply(lambda x: int(x))"
      ],
      "execution_count": null,
      "outputs": []
    },
    {
      "cell_type": "code",
      "metadata": {
        "id": "ccE61DP0s1qT"
      },
      "source": [
        "# Price never be an object it should be a float\n",
        "play_store_df['price']=play_store_df['price'].apply(lambda x: x.replace(\"$\",\"\") if \"$\" in str(x) else x)\n",
        "play_store_df['price']=play_store_df['price'].apply(lambda x:float(x))"
      ],
      "execution_count": null,
      "outputs": []
    },
    {
      "cell_type": "code",
      "metadata": {
        "id": "mN2KGt5ts40i"
      },
      "source": [
        "# Let's fix the size column\n",
        "play_store_df['size']=play_store_df['size'].apply(lambda x : str(x).replace(\"Varies with device\",\"NaN\") if \"Varies with device\" in str(x) else x)\n",
        "play_store_df['size']=play_store_df['size'].apply(lambda x:  str(x).replace(\"M\",\"\") if \"M\" in str(x) else x)\n",
        "play_store_df['size']=play_store_df['size'].apply(lambda x:  float(str(x).replace(\"k\",\"\"))/1000 if \"k\" in str(x) else x)\n",
        "play_store_df['size']=play_store_df['size'].apply(lambda x:  float(x))"
      ],
      "execution_count": null,
      "outputs": []
    },
    {
      "cell_type": "code",
      "metadata": {
        "id": "wDy777nWs86a"
      },
      "source": [
        "# Fixing last updated object to proper datetime \n",
        "play_store_df['last_updated'].unique()\n",
        "play_store_df['last_updated']=pd.to_datetime(play_store_df['last_updated'])"
      ],
      "execution_count": null,
      "outputs": []
    },
    {
      "cell_type": "code",
      "metadata": {
        "id": "So6fnxO6s_sr",
        "colab": {
          "base_uri": "https://localhost:8080/"
        },
        "outputId": "16a90c03-fb93-4e73-bc7e-adc9265fe80c"
      },
      "source": [
        "# Unique category \n",
        "len(play_store_df['category'].unique())"
      ],
      "execution_count": null,
      "outputs": [
        {
          "output_type": "execute_result",
          "data": {
            "text/plain": [
              "33"
            ]
          },
          "metadata": {},
          "execution_count": 24
        }
      ]
    },
    {
      "cell_type": "code",
      "metadata": {
        "id": "EQ8jd6GItCpj",
        "colab": {
          "base_uri": "https://localhost:8080/"
        },
        "outputId": "14e3c5f4-6efc-4fec-871c-88c34966fe7f"
      },
      "source": [
        "play_store_df.info()"
      ],
      "execution_count": null,
      "outputs": [
        {
          "output_type": "stream",
          "text": [
            "<class 'pandas.core.frame.DataFrame'>\n",
            "Int64Index: 10840 entries, 0 to 10840\n",
            "Data columns (total 13 columns):\n",
            " #   Column          Non-Null Count  Dtype         \n",
            "---  ------          --------------  -----         \n",
            " 0   app             10840 non-null  object        \n",
            " 1   category        10840 non-null  object        \n",
            " 2   rating          10840 non-null  float64       \n",
            " 3   reviews         10840 non-null  int64         \n",
            " 4   size            9145 non-null   float64       \n",
            " 5   installs        10840 non-null  int64         \n",
            " 6   type            10840 non-null  object        \n",
            " 7   price           10840 non-null  float64       \n",
            " 8   content_rating  10840 non-null  object        \n",
            " 9   genres          10840 non-null  object        \n",
            " 10  last_updated    10840 non-null  datetime64[ns]\n",
            " 11  current_ver     10832 non-null  object        \n",
            " 12  android_ver     10838 non-null  object        \n",
            "dtypes: datetime64[ns](1), float64(3), int64(2), object(7)\n",
            "memory usage: 1.2+ MB\n"
          ],
          "name": "stdout"
        }
      ]
    },
    {
      "cell_type": "markdown",
      "metadata": {
        "id": "n1m65u0ctGvG"
      },
      "source": [
        "###Ah! Until now we have been thoroughly cleaning and fixing the data type as required, we havn't explored the single aspect of any features given in data set which will be influencing the result of performance altogether."
      ]
    },
    {
      "cell_type": "markdown",
      "metadata": {
        "id": "lY5HgqhatPPS"
      },
      "source": [
        "###Step 3. Extracting statistics from the dataset\n",
        "\n",
        "####Here we will be doing some statistical analysis of data using pandas built-in method called describe(). Describe only works for the numerical features"
      ]
    },
    {
      "cell_type": "code",
      "metadata": {
        "id": "AMzl3sZUtXrd",
        "colab": {
          "base_uri": "https://localhost:8080/",
          "height": 527
        },
        "outputId": "ead66658-bcd4-465d-ca7c-cea38acb21b2"
      },
      "source": [
        "# Let's take some statistical taste of play store dataframe:\n",
        "play_store_df.describe(include='all')"
      ],
      "execution_count": null,
      "outputs": [
        {
          "output_type": "execute_result",
          "data": {
            "text/html": [
              "<div>\n",
              "<style scoped>\n",
              "    .dataframe tbody tr th:only-of-type {\n",
              "        vertical-align: middle;\n",
              "    }\n",
              "\n",
              "    .dataframe tbody tr th {\n",
              "        vertical-align: top;\n",
              "    }\n",
              "\n",
              "    .dataframe thead th {\n",
              "        text-align: right;\n",
              "    }\n",
              "</style>\n",
              "<table border=\"1\" class=\"dataframe\">\n",
              "  <thead>\n",
              "    <tr style=\"text-align: right;\">\n",
              "      <th></th>\n",
              "      <th>app</th>\n",
              "      <th>category</th>\n",
              "      <th>rating</th>\n",
              "      <th>reviews</th>\n",
              "      <th>size</th>\n",
              "      <th>installs</th>\n",
              "      <th>type</th>\n",
              "      <th>price</th>\n",
              "      <th>content_rating</th>\n",
              "      <th>genres</th>\n",
              "      <th>last_updated</th>\n",
              "      <th>current_ver</th>\n",
              "      <th>android_ver</th>\n",
              "    </tr>\n",
              "  </thead>\n",
              "  <tbody>\n",
              "    <tr>\n",
              "      <th>count</th>\n",
              "      <td>10840</td>\n",
              "      <td>10840</td>\n",
              "      <td>10840.000000</td>\n",
              "      <td>1.084000e+04</td>\n",
              "      <td>9145.000000</td>\n",
              "      <td>1.084000e+04</td>\n",
              "      <td>10840</td>\n",
              "      <td>10840.000000</td>\n",
              "      <td>10840</td>\n",
              "      <td>10840</td>\n",
              "      <td>10840</td>\n",
              "      <td>10832</td>\n",
              "      <td>10838</td>\n",
              "    </tr>\n",
              "    <tr>\n",
              "      <th>unique</th>\n",
              "      <td>9659</td>\n",
              "      <td>33</td>\n",
              "      <td>NaN</td>\n",
              "      <td>NaN</td>\n",
              "      <td>NaN</td>\n",
              "      <td>NaN</td>\n",
              "      <td>2</td>\n",
              "      <td>NaN</td>\n",
              "      <td>6</td>\n",
              "      <td>119</td>\n",
              "      <td>1377</td>\n",
              "      <td>2831</td>\n",
              "      <td>33</td>\n",
              "    </tr>\n",
              "    <tr>\n",
              "      <th>top</th>\n",
              "      <td>ROBLOX</td>\n",
              "      <td>FAMILY</td>\n",
              "      <td>NaN</td>\n",
              "      <td>NaN</td>\n",
              "      <td>NaN</td>\n",
              "      <td>NaN</td>\n",
              "      <td>Free</td>\n",
              "      <td>NaN</td>\n",
              "      <td>Everyone</td>\n",
              "      <td>Tools</td>\n",
              "      <td>2018-08-03 00:00:00</td>\n",
              "      <td>Varies with device</td>\n",
              "      <td>4.1 and up</td>\n",
              "    </tr>\n",
              "    <tr>\n",
              "      <th>freq</th>\n",
              "      <td>9</td>\n",
              "      <td>1972</td>\n",
              "      <td>NaN</td>\n",
              "      <td>NaN</td>\n",
              "      <td>NaN</td>\n",
              "      <td>NaN</td>\n",
              "      <td>10040</td>\n",
              "      <td>NaN</td>\n",
              "      <td>8714</td>\n",
              "      <td>842</td>\n",
              "      <td>326</td>\n",
              "      <td>1459</td>\n",
              "      <td>2451</td>\n",
              "    </tr>\n",
              "    <tr>\n",
              "      <th>first</th>\n",
              "      <td>NaN</td>\n",
              "      <td>NaN</td>\n",
              "      <td>NaN</td>\n",
              "      <td>NaN</td>\n",
              "      <td>NaN</td>\n",
              "      <td>NaN</td>\n",
              "      <td>NaN</td>\n",
              "      <td>NaN</td>\n",
              "      <td>NaN</td>\n",
              "      <td>NaN</td>\n",
              "      <td>2010-05-21 00:00:00</td>\n",
              "      <td>NaN</td>\n",
              "      <td>NaN</td>\n",
              "    </tr>\n",
              "    <tr>\n",
              "      <th>last</th>\n",
              "      <td>NaN</td>\n",
              "      <td>NaN</td>\n",
              "      <td>NaN</td>\n",
              "      <td>NaN</td>\n",
              "      <td>NaN</td>\n",
              "      <td>NaN</td>\n",
              "      <td>NaN</td>\n",
              "      <td>NaN</td>\n",
              "      <td>NaN</td>\n",
              "      <td>NaN</td>\n",
              "      <td>2018-08-08 00:00:00</td>\n",
              "      <td>NaN</td>\n",
              "      <td>NaN</td>\n",
              "    </tr>\n",
              "    <tr>\n",
              "      <th>mean</th>\n",
              "      <td>NaN</td>\n",
              "      <td>NaN</td>\n",
              "      <td>4.190567</td>\n",
              "      <td>4.441529e+05</td>\n",
              "      <td>21.516530</td>\n",
              "      <td>1.546434e+07</td>\n",
              "      <td>NaN</td>\n",
              "      <td>1.027368</td>\n",
              "      <td>NaN</td>\n",
              "      <td>NaN</td>\n",
              "      <td>NaN</td>\n",
              "      <td>NaN</td>\n",
              "      <td>NaN</td>\n",
              "    </tr>\n",
              "    <tr>\n",
              "      <th>std</th>\n",
              "      <td>NaN</td>\n",
              "      <td>NaN</td>\n",
              "      <td>0.517606</td>\n",
              "      <td>2.927761e+06</td>\n",
              "      <td>22.588748</td>\n",
              "      <td>8.502936e+07</td>\n",
              "      <td>NaN</td>\n",
              "      <td>15.949703</td>\n",
              "      <td>NaN</td>\n",
              "      <td>NaN</td>\n",
              "      <td>NaN</td>\n",
              "      <td>NaN</td>\n",
              "      <td>NaN</td>\n",
              "    </tr>\n",
              "    <tr>\n",
              "      <th>min</th>\n",
              "      <td>NaN</td>\n",
              "      <td>NaN</td>\n",
              "      <td>1.000000</td>\n",
              "      <td>0.000000e+00</td>\n",
              "      <td>0.008500</td>\n",
              "      <td>0.000000e+00</td>\n",
              "      <td>NaN</td>\n",
              "      <td>0.000000</td>\n",
              "      <td>NaN</td>\n",
              "      <td>NaN</td>\n",
              "      <td>NaN</td>\n",
              "      <td>NaN</td>\n",
              "      <td>NaN</td>\n",
              "    </tr>\n",
              "    <tr>\n",
              "      <th>25%</th>\n",
              "      <td>NaN</td>\n",
              "      <td>NaN</td>\n",
              "      <td>4.000000</td>\n",
              "      <td>3.800000e+01</td>\n",
              "      <td>4.900000</td>\n",
              "      <td>1.000000e+03</td>\n",
              "      <td>NaN</td>\n",
              "      <td>0.000000</td>\n",
              "      <td>NaN</td>\n",
              "      <td>NaN</td>\n",
              "      <td>NaN</td>\n",
              "      <td>NaN</td>\n",
              "      <td>NaN</td>\n",
              "    </tr>\n",
              "    <tr>\n",
              "      <th>50%</th>\n",
              "      <td>NaN</td>\n",
              "      <td>NaN</td>\n",
              "      <td>4.300000</td>\n",
              "      <td>2.094000e+03</td>\n",
              "      <td>13.000000</td>\n",
              "      <td>1.000000e+05</td>\n",
              "      <td>NaN</td>\n",
              "      <td>0.000000</td>\n",
              "      <td>NaN</td>\n",
              "      <td>NaN</td>\n",
              "      <td>NaN</td>\n",
              "      <td>NaN</td>\n",
              "      <td>NaN</td>\n",
              "    </tr>\n",
              "    <tr>\n",
              "      <th>75%</th>\n",
              "      <td>NaN</td>\n",
              "      <td>NaN</td>\n",
              "      <td>4.500000</td>\n",
              "      <td>5.477550e+04</td>\n",
              "      <td>30.000000</td>\n",
              "      <td>5.000000e+06</td>\n",
              "      <td>NaN</td>\n",
              "      <td>0.000000</td>\n",
              "      <td>NaN</td>\n",
              "      <td>NaN</td>\n",
              "      <td>NaN</td>\n",
              "      <td>NaN</td>\n",
              "      <td>NaN</td>\n",
              "    </tr>\n",
              "    <tr>\n",
              "      <th>max</th>\n",
              "      <td>NaN</td>\n",
              "      <td>NaN</td>\n",
              "      <td>5.000000</td>\n",
              "      <td>7.815831e+07</td>\n",
              "      <td>100.000000</td>\n",
              "      <td>1.000000e+09</td>\n",
              "      <td>NaN</td>\n",
              "      <td>400.000000</td>\n",
              "      <td>NaN</td>\n",
              "      <td>NaN</td>\n",
              "      <td>NaN</td>\n",
              "      <td>NaN</td>\n",
              "      <td>NaN</td>\n",
              "    </tr>\n",
              "  </tbody>\n",
              "</table>\n",
              "</div>"
            ],
            "text/plain": [
              "           app category  ...         current_ver  android_ver\n",
              "count    10840    10840  ...               10832        10838\n",
              "unique    9659       33  ...                2831           33\n",
              "top     ROBLOX   FAMILY  ...  Varies with device   4.1 and up\n",
              "freq         9     1972  ...                1459         2451\n",
              "first      NaN      NaN  ...                 NaN          NaN\n",
              "last       NaN      NaN  ...                 NaN          NaN\n",
              "mean       NaN      NaN  ...                 NaN          NaN\n",
              "std        NaN      NaN  ...                 NaN          NaN\n",
              "min        NaN      NaN  ...                 NaN          NaN\n",
              "25%        NaN      NaN  ...                 NaN          NaN\n",
              "50%        NaN      NaN  ...                 NaN          NaN\n",
              "75%        NaN      NaN  ...                 NaN          NaN\n",
              "max        NaN      NaN  ...                 NaN          NaN\n",
              "\n",
              "[13 rows x 13 columns]"
            ]
          },
          "metadata": {},
          "execution_count": 26
        }
      ]
    },
    {
      "cell_type": "code",
      "metadata": {
        "id": "vhzfJJYfth51",
        "colab": {
          "base_uri": "https://localhost:8080/",
          "height": 299
        },
        "outputId": "a84d1bee-dc1c-4a9b-a7b8-b7e42b23c481"
      },
      "source": [
        "# Let's use describe only for numerical column\n",
        "play_store_df.describe()"
      ],
      "execution_count": null,
      "outputs": [
        {
          "output_type": "execute_result",
          "data": {
            "text/html": [
              "<div>\n",
              "<style scoped>\n",
              "    .dataframe tbody tr th:only-of-type {\n",
              "        vertical-align: middle;\n",
              "    }\n",
              "\n",
              "    .dataframe tbody tr th {\n",
              "        vertical-align: top;\n",
              "    }\n",
              "\n",
              "    .dataframe thead th {\n",
              "        text-align: right;\n",
              "    }\n",
              "</style>\n",
              "<table border=\"1\" class=\"dataframe\">\n",
              "  <thead>\n",
              "    <tr style=\"text-align: right;\">\n",
              "      <th></th>\n",
              "      <th>rating</th>\n",
              "      <th>reviews</th>\n",
              "      <th>size</th>\n",
              "      <th>installs</th>\n",
              "      <th>price</th>\n",
              "    </tr>\n",
              "  </thead>\n",
              "  <tbody>\n",
              "    <tr>\n",
              "      <th>count</th>\n",
              "      <td>10840.000000</td>\n",
              "      <td>1.084000e+04</td>\n",
              "      <td>9145.000000</td>\n",
              "      <td>1.084000e+04</td>\n",
              "      <td>10840.000000</td>\n",
              "    </tr>\n",
              "    <tr>\n",
              "      <th>mean</th>\n",
              "      <td>4.190567</td>\n",
              "      <td>4.441529e+05</td>\n",
              "      <td>21.516530</td>\n",
              "      <td>1.546434e+07</td>\n",
              "      <td>1.027368</td>\n",
              "    </tr>\n",
              "    <tr>\n",
              "      <th>std</th>\n",
              "      <td>0.517606</td>\n",
              "      <td>2.927761e+06</td>\n",
              "      <td>22.588748</td>\n",
              "      <td>8.502936e+07</td>\n",
              "      <td>15.949703</td>\n",
              "    </tr>\n",
              "    <tr>\n",
              "      <th>min</th>\n",
              "      <td>1.000000</td>\n",
              "      <td>0.000000e+00</td>\n",
              "      <td>0.008500</td>\n",
              "      <td>0.000000e+00</td>\n",
              "      <td>0.000000</td>\n",
              "    </tr>\n",
              "    <tr>\n",
              "      <th>25%</th>\n",
              "      <td>4.000000</td>\n",
              "      <td>3.800000e+01</td>\n",
              "      <td>4.900000</td>\n",
              "      <td>1.000000e+03</td>\n",
              "      <td>0.000000</td>\n",
              "    </tr>\n",
              "    <tr>\n",
              "      <th>50%</th>\n",
              "      <td>4.300000</td>\n",
              "      <td>2.094000e+03</td>\n",
              "      <td>13.000000</td>\n",
              "      <td>1.000000e+05</td>\n",
              "      <td>0.000000</td>\n",
              "    </tr>\n",
              "    <tr>\n",
              "      <th>75%</th>\n",
              "      <td>4.500000</td>\n",
              "      <td>5.477550e+04</td>\n",
              "      <td>30.000000</td>\n",
              "      <td>5.000000e+06</td>\n",
              "      <td>0.000000</td>\n",
              "    </tr>\n",
              "    <tr>\n",
              "      <th>max</th>\n",
              "      <td>5.000000</td>\n",
              "      <td>7.815831e+07</td>\n",
              "      <td>100.000000</td>\n",
              "      <td>1.000000e+09</td>\n",
              "      <td>400.000000</td>\n",
              "    </tr>\n",
              "  </tbody>\n",
              "</table>\n",
              "</div>"
            ],
            "text/plain": [
              "             rating       reviews         size      installs         price\n",
              "count  10840.000000  1.084000e+04  9145.000000  1.084000e+04  10840.000000\n",
              "mean       4.190567  4.441529e+05    21.516530  1.546434e+07      1.027368\n",
              "std        0.517606  2.927761e+06    22.588748  8.502936e+07     15.949703\n",
              "min        1.000000  0.000000e+00     0.008500  0.000000e+00      0.000000\n",
              "25%        4.000000  3.800000e+01     4.900000  1.000000e+03      0.000000\n",
              "50%        4.300000  2.094000e+03    13.000000  1.000000e+05      0.000000\n",
              "75%        4.500000  5.477550e+04    30.000000  5.000000e+06      0.000000\n",
              "max        5.000000  7.815831e+07   100.000000  1.000000e+09    400.000000"
            ]
          },
          "metadata": {},
          "execution_count": 27
        }
      ]
    },
    {
      "cell_type": "markdown",
      "metadata": {
        "id": "Lx8RC6rDbXjX"
      },
      "source": [
        "###Sorry guys! I'm dumb! I can't find any meaningful insight just looking at the data, neither from top nor bottom though I have used describe,I have just got few information. I think I need to update myself like Google Play Store Apps.\n",
        "###Why there are so many unnecessary decimal points followed by each result being displayed in the description, the reason is that if one of the feature entities required decimal points to show its accurate value, pandas try to put that many decimal points for each entity being displayed.\n",
        "###Now I'm going to use the superpower of pandas to visualize data in a rigor way."
      ]
    },
    {
      "cell_type": "code",
      "metadata": {
        "id": "SKP-l0uwbnSe"
      },
      "source": [
        "# installing the pandas profiling\n",
        "! pip install https://github.com/pandas-profiling/pandas-profiling/archive/master.zip "
      ],
      "execution_count": null,
      "outputs": []
    },
    {
      "cell_type": "code",
      "metadata": {
        "id": "-UjwTuQ2b-YO"
      },
      "source": [
        "# Importing profile report from pandas profiling.\n",
        "from pandas_profiling import profile_report"
      ],
      "execution_count": null,
      "outputs": []
    },
    {
      "cell_type": "code",
      "metadata": {
        "id": "9iht9Nmhb_Ri"
      },
      "source": [
        "# Collecting The Pandas Profile Report.\n",
        "play_store_df.profile_report()"
      ],
      "execution_count": null,
      "outputs": []
    },
    {
      "cell_type": "markdown",
      "metadata": {
        "id": "eKcF6dSYcH59"
      },
      "source": [
        "\n",
        "###Step 4: Exploratory Data Analysis\n",
        "\n",
        "###In statistics, exploratory data analysis is an approach of analyzing data sets to summarize their main characteristics, often using statistical graphics and other data visualization methods.\n",
        "\n",
        "###Exploratory Data Analysis refers to the critical process of performing initial investigations on data so as to discover patterns.\n",
        "\n",
        "###Reference(https://en.wikipedia.org/wiki/Exploratory_data_analysis)"
      ]
    },
    {
      "cell_type": "code",
      "metadata": {
        "id": "d70AsAdrcVJo"
      },
      "source": [
        "# importting my favorite library plotly\n",
        "import plotly.express as px"
      ],
      "execution_count": null,
      "outputs": []
    },
    {
      "cell_type": "code",
      "metadata": {
        "id": "RP9w7HvqdC5A"
      },
      "source": [
        "# Distribution of average app rating as per their category\n",
        "average_rating=play_store_df.groupby(['category','type'],as_index=False)['rating'].median().reset_index()"
      ],
      "execution_count": null,
      "outputs": []
    },
    {
      "cell_type": "code",
      "metadata": {
        "id": "KiZoINngdFTq"
      },
      "source": [
        "# Applying a format with the help of lambda function to restrict the decimal points in rating column\n",
        "average_rating['rating']=average_rating['rating'].apply(lambda x:\"{0:1.1f}\".format(x))"
      ],
      "execution_count": null,
      "outputs": []
    },
    {
      "cell_type": "code",
      "metadata": {
        "id": "owMPcdLBdKrs"
      },
      "source": [
        "# Plotting a bar plot using plotly for average rating per category\n",
        "px.bar(data_frame=average_rating,x=average_rating['category'],y=average_rating['rating'],text='rating',\n",
        "       title='Average Rating comparison Between Free vs Paid Applications In Each Category',color='type')"
      ],
      "execution_count": null,
      "outputs": []
    },
    {
      "cell_type": "code",
      "metadata": {
        "id": "-vUUEGNgdKl6"
      },
      "source": [
        "# Printing the overall mean of the rating for all the categories in play store data\n",
        "print(f\"The average rating for each category is around {round(np.mean(play_store_df['rating']),1)} out of 5\")"
      ],
      "execution_count": null,
      "outputs": []
    },
    {
      "cell_type": "markdown",
      "metadata": {
        "id": "nysN35TzdT2S"
      },
      "source": [
        "###As we can see from above bar plot, almost every category has average rating around 4.2, 4.5 is the highest rating for three categories namely Books_and_reference ,Events, and Health_and_Fitness."
      ]
    },
    {
      "cell_type": "code",
      "metadata": {
        "id": "0y4qtmIqdc_g"
      },
      "source": [
        "# Let's see how application size affects the number of rating\n",
        "px.scatter(data_frame=play_store_df,x='rating',y='size',color='size',\n",
        "           title=\"Scatter Plot Representing the effect of size on the number of rating\")"
      ],
      "execution_count": null,
      "outputs": []
    },
    {
      "cell_type": "markdown",
      "metadata": {
        "id": "ST_i5AwddhOj"
      },
      "source": [
        "###The points are more dense at the lower bottom-right, meaning, less sized apps have higher ratings."
      ]
    },
    {
      "cell_type": "code",
      "metadata": {
        "id": "XhcuxNTudmK_"
      },
      "source": [
        "# Let's have a look at reviews vs rating\n",
        "px.scatter(data_frame=play_store_df[play_store_df['reviews']<100000],x='reviews',y='rating',trendline='ols',color='rating',\n",
        "           title='Scatter Plot With Trendline Represents Reviews VS Rating',text='rating')"
      ],
      "execution_count": null,
      "outputs": []
    },
    {
      "cell_type": "markdown",
      "metadata": {
        "id": "hZQ7kD1QdrM_"
      },
      "source": [
        "###Obiviously by looking at above scatter plot with trendline we are able to conclude that lessser the reviews on applications lesser the rating as well."
      ]
    },
    {
      "cell_type": "code",
      "metadata": {
        "id": "wIwtiYZYdyIG"
      },
      "source": [
        "# Let's see how price of application impacts the number of rating\n",
        "px.scatter(data_frame=play_store_df,x='price',y='rating',color='type',trendline='ols',text='reviews',\n",
        "           title='Price Vs Rating')"
      ],
      "execution_count": null,
      "outputs": []
    },
    {
      "cell_type": "markdown",
      "metadata": {
        "id": "HFleWewDd4kk"
      },
      "source": [
        "###Inference - - Of course, as the price of the application increases, there are fewer downloads hence fewer reviews and ratings as we can visualize from the above scatter plot."
      ]
    },
    {
      "cell_type": "code",
      "metadata": {
        "id": "dcirufg_d_6X"
      },
      "source": [
        "# countplot for content rating\n",
        "sns.countplot(x=play_store_df.content_rating,data=play_store_df,hue=play_store_df.category,palette='Set2_r')\n",
        "plt.title(\"CountPlot Representing Content Rating Per Category\")\n",
        "plt.legend(bbox_to_anchor=(1.05, 1), loc='upper left', borderaxespad=0)\n",
        "plt.show()"
      ],
      "execution_count": null,
      "outputs": []
    },
    {
      "cell_type": "markdown",
      "metadata": {
        "id": "zNkEtTtweE1m"
      },
      "source": [
        "###A count plot is a kind of like a histogram or a bar graph for some categorical area. It simply shows the number of occurrences of an item based on a certain type of category.\n",
        "\n",
        "###Content rating is another feature available in the given google play store data set.\n",
        "\n",
        "###Content rating describes the minimum maturity of content inside the applications. But doesn’t tells that application is designed for a specific age group. We used the count plot to understand the content rating for each category.\n",
        "\n",
        "###Most of the applications on google play is having a content rating for everyone. However, only the dating category is for the mature 17+ age group."
      ]
    },
    {
      "cell_type": "code",
      "metadata": {
        "id": "5EvAWcFeeZiM"
      },
      "source": [
        "# Let's see what kind of content rating applications are being downloaded most.\n",
        "px.bar(data_frame=play_store_df,x='content_rating',y='installs',color='content_rating',\n",
        "       title='Content rating Vs Installs')"
      ],
      "execution_count": null,
      "outputs": []
    },
    {
      "cell_type": "markdown",
      "metadata": {
        "id": "gfFXv54eeews"
      },
      "source": [
        "###The applications which have a content rating for everyone are being installed most than other."
      ]
    },
    {
      "cell_type": "code",
      "metadata": {
        "id": "bfBFRu2xekHm"
      },
      "source": [
        "px.box(data_frame=play_store_df,x='category',y='last_updated',\n",
        "       title='Box Plot Representing the Tendency of the Last Updated For Both Free And Paid Category',color='type')"
      ],
      "execution_count": null,
      "outputs": []
    },
    {
      "cell_type": "code",
      "metadata": {
        "id": "svxW3AOEetg0"
      },
      "source": [
        "# Let's check the number of free and paid applications for each category\n",
        "unique_last_update=play_store_df.groupby(['category','type'],as_index=False)['last_updated'].count()"
      ],
      "execution_count": null,
      "outputs": []
    },
    {
      "cell_type": "code",
      "metadata": {
        "id": "zy32OtFRewCh"
      },
      "source": [
        "# Setting the name of the columns\n",
        "unique_last_update.set_axis(['category','type','Total Number of applications'],axis=1,inplace=True)"
      ],
      "execution_count": null,
      "outputs": []
    },
    {
      "cell_type": "code",
      "metadata": {
        "id": "lyZZRZ5Ye0cK"
      },
      "source": [
        "# With the help of plotly bar plot experimenting which kind of applications are being updated the most.\n",
        "px.bar(data_frame=unique_last_update,x='category',y='Total Number of applications',color='type',\n",
        "       text='Total Number of applications',title='Total Number Of Free and Paid Applications In Each Category')"
      ],
      "execution_count": null,
      "outputs": []
    },
    {
      "cell_type": "markdown",
      "metadata": {
        "id": "a5IhV-M-e60-"
      },
      "source": [
        "###The above Bar plot shows the total number of free and paid applications in each category. The family category has 191 paid applications and 1781 are free applications. We can an explicit number of paid applications in red color and sky-blue color holds the number of free applications.\n",
        "\n",
        "###During the second step I have set column name as the total number of applications in place of last updated column because I have counted the last updated value for each category which turns out to be the number of applications available inside each of the categories"
      ]
    },
    {
      "cell_type": "code",
      "metadata": {
        "id": "Zk9sz99lfDa3"
      },
      "source": [
        "# Calculating number of applications available in each category and storing it in variable categories.\n",
        "categories=play_store_df['category'].value_counts().reset_index()"
      ],
      "execution_count": null,
      "outputs": []
    },
    {
      "cell_type": "code",
      "metadata": {
        "id": "PYL4GkNEfG11"
      },
      "source": [
        "# Resetting the names of columns here\n",
        "categories.set_axis(['category','count'],axis=1,inplace=True)"
      ],
      "execution_count": null,
      "outputs": []
    },
    {
      "cell_type": "code",
      "metadata": {
        "id": "KWeYCTsCfM_A"
      },
      "source": [
        "# Plotting a bar plot representing the total count of applications in each category using plotly.\n",
        "px.bar(data_frame=categories,x=categories['category'],y=categories['count'],text=\"count\",title='Total Number of Application In Each Category')\n"
      ],
      "execution_count": null,
      "outputs": []
    },
    {
      "cell_type": "markdown",
      "metadata": {
        "id": "Fp53KRRPfVNf"
      },
      "source": [
        "###The above count plot is the evidence that category family has the most number of applications available on the google play store, and very few apps are available for the category beauty and parenting. What I believe that beauty comes from inside and parenting should be come as naturally as possible."
      ]
    },
    {
      "cell_type": "code",
      "metadata": {
        "id": "hC85Ks1Zfaz9"
      },
      "source": [
        "# Let's calculate the most installed android version \n",
        "most_install_android_version=play_store_df.groupby(['android_ver','type'])['installs'].sum().reset_index().sort_values(by='installs',ascending=False)"
      ],
      "execution_count": null,
      "outputs": []
    },
    {
      "cell_type": "code",
      "metadata": {
        "id": "08ggVlzYfdwx"
      },
      "source": [
        "# Converting sum of installs into log2 scale and creating a new column named log2 installs \n",
        "most_install_android_version['log2_installs']=np.log2(most_install_android_version['installs'])"
      ],
      "execution_count": null,
      "outputs": []
    },
    {
      "cell_type": "code",
      "metadata": {
        "id": "0xf52Aj0fgVE"
      },
      "source": [
        "# Applying a format to restrict the decimal points to avoid overwhelming of decimal points in installs columns\n",
        "most_install_android_version['log2_installs']=most_install_android_version['log2_installs'].apply(lambda x:\"{0:1.1f}\".format(x))"
      ],
      "execution_count": null,
      "outputs": []
    },
    {
      "cell_type": "code",
      "metadata": {
        "id": "CeG9ND6Ifjah"
      },
      "source": [
        "# using plotly bar plot let's visualize which android version being installs along with its category type \n",
        "px.bar(data_frame=most_install_android_version,x='android_ver',y='log2_installs',color='type',\n",
        "       text='log2_installs',title='Most Installed Android Version With Respect to Type')"
      ],
      "execution_count": null,
      "outputs": []
    },
    {
      "cell_type": "markdown",
      "metadata": {
        "id": "yfX-hChOfpdq"
      },
      "source": [
        "###From the above bar plot it can be understood that most installed applications android version varies with the device, second highest installed android version is 4.1 and up"
      ]
    },
    {
      "cell_type": "code",
      "metadata": {
        "id": "YPWU33gQfuKF"
      },
      "source": [
        "# Now i'm curious to know number application in each genres\n",
        "genres_count=play_store_df['genres'].value_counts().reset_index()"
      ],
      "execution_count": null,
      "outputs": []
    },
    {
      "cell_type": "code",
      "metadata": {
        "id": "aW_7Xw5jfw5r"
      },
      "source": [
        "# setting the colum name\n",
        "genres_count.set_axis(['genres','count'],axis=1,inplace=True)"
      ],
      "execution_count": null,
      "outputs": []
    },
    {
      "cell_type": "code",
      "metadata": {
        "id": "tn_DDRjgf3fd"
      },
      "source": [
        "# I'm putting a restriction upto top 25 genres\n",
        "genres_count=genres_count.head(25)"
      ],
      "execution_count": null,
      "outputs": []
    },
    {
      "cell_type": "code",
      "metadata": {
        "id": "ic_gUUuHf840"
      },
      "source": [
        "# It's time to see the top 25 genres with most applications\n",
        "px.bar(data_frame=genres_count,x='genres',y='count',text='count',color='count',\n",
        "       title='TOP 25 Genres')"
      ],
      "execution_count": null,
      "outputs": []
    },
    {
      "cell_type": "markdown",
      "metadata": {
        "id": "U9fwAZxJgCwc"
      },
      "source": [
        "###From the above countplot we can see the tools genres has the most number of applications, we can see the total number of application in top 25 genres."
      ]
    }
  ]
}